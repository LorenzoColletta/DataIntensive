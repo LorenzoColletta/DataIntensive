{
 "cells": [
  {
   "cell_type": "markdown",
   "metadata": {
    "id": "sRlZanLmPzG8"
   },
   "source": [
    "Lorenzo Colletta, Giorgio Fantilli, Luca Lucioli"
   ]
  },
  {
   "cell_type": "markdown",
   "metadata": {
    "id": "xbIORchGW1oz"
   },
   "source": [
    "## Parte 1 - Descrizione del problema\n",
    "\n",
    "Il dataset in esame include dati per la stima dei livelli di obesità negli individui provenienti dai paesi di Messico, Perù e Colombia, in base alle loro abitudini alimentari e alle condizioni fisiche. `TODO`\n",
    "\n",
    "Di seguito vengono importate le librerie necessarie per scaricare i file, organizzare le strutture dati e disegnare i grafici."
   ]
  },
  {
   "cell_type": "code",
   "execution_count": 2,
   "metadata": {
    "id": "ECDeFnTwQybP"
   },
   "outputs": [],
   "source": [
    "import os.path\n",
    "\n",
    "import numpy as np\n",
    "import pandas as pd\n",
    "import matplotlib.pyplot as plt\n",
    "\n",
    "%matplotlib inline"
   ]
  },
  {
   "cell_type": "markdown",
   "metadata": {
    "id": "CGtjGX1HVOyH"
   },
   "source": [
    "### Caricamento dati e preprocessing"
   ]
  },
  {
   "cell_type": "code",
   "execution_count": 3,
   "metadata": {
    "id": "8O5CGPhUQe5b"
   },
   "outputs": [
    {
     "data": {
      "text/html": [
       "<div>\n",
       "<style scoped>\n",
       "    .dataframe tbody tr th:only-of-type {\n",
       "        vertical-align: middle;\n",
       "    }\n",
       "\n",
       "    .dataframe tbody tr th {\n",
       "        vertical-align: top;\n",
       "    }\n",
       "\n",
       "    .dataframe thead th {\n",
       "        text-align: right;\n",
       "    }\n",
       "</style>\n",
       "<table border=\"1\" class=\"dataframe\">\n",
       "  <thead>\n",
       "    <tr style=\"text-align: right;\">\n",
       "      <th></th>\n",
       "      <th>Gender</th>\n",
       "      <th>Age</th>\n",
       "      <th>Height</th>\n",
       "      <th>Weight</th>\n",
       "      <th>FHWO</th>\n",
       "      <th>FAVC</th>\n",
       "      <th>FCVC</th>\n",
       "      <th>NCP</th>\n",
       "      <th>CAEC</th>\n",
       "      <th>SMOKE</th>\n",
       "      <th>CH2O</th>\n",
       "      <th>SCC</th>\n",
       "      <th>FAF</th>\n",
       "      <th>TUE</th>\n",
       "      <th>CALC</th>\n",
       "      <th>MTRANS</th>\n",
       "      <th>ObesityLevel</th>\n",
       "    </tr>\n",
       "  </thead>\n",
       "  <tbody>\n",
       "    <tr>\n",
       "      <th>0</th>\n",
       "      <td>Female</td>\n",
       "      <td>21.0</td>\n",
       "      <td>1.62</td>\n",
       "      <td>64.0</td>\n",
       "      <td>yes</td>\n",
       "      <td>no</td>\n",
       "      <td>2.0</td>\n",
       "      <td>3.0</td>\n",
       "      <td>Sometimes</td>\n",
       "      <td>no</td>\n",
       "      <td>2.0</td>\n",
       "      <td>no</td>\n",
       "      <td>0.0</td>\n",
       "      <td>1.0</td>\n",
       "      <td>no</td>\n",
       "      <td>Public_Transportation</td>\n",
       "      <td>Normal_Weight</td>\n",
       "    </tr>\n",
       "    <tr>\n",
       "      <th>1</th>\n",
       "      <td>Female</td>\n",
       "      <td>21.0</td>\n",
       "      <td>1.52</td>\n",
       "      <td>56.0</td>\n",
       "      <td>yes</td>\n",
       "      <td>no</td>\n",
       "      <td>3.0</td>\n",
       "      <td>3.0</td>\n",
       "      <td>Sometimes</td>\n",
       "      <td>yes</td>\n",
       "      <td>3.0</td>\n",
       "      <td>yes</td>\n",
       "      <td>3.0</td>\n",
       "      <td>0.0</td>\n",
       "      <td>Sometimes</td>\n",
       "      <td>Public_Transportation</td>\n",
       "      <td>Normal_Weight</td>\n",
       "    </tr>\n",
       "    <tr>\n",
       "      <th>2</th>\n",
       "      <td>Male</td>\n",
       "      <td>23.0</td>\n",
       "      <td>1.80</td>\n",
       "      <td>77.0</td>\n",
       "      <td>yes</td>\n",
       "      <td>no</td>\n",
       "      <td>2.0</td>\n",
       "      <td>3.0</td>\n",
       "      <td>Sometimes</td>\n",
       "      <td>no</td>\n",
       "      <td>2.0</td>\n",
       "      <td>no</td>\n",
       "      <td>2.0</td>\n",
       "      <td>1.0</td>\n",
       "      <td>Frequently</td>\n",
       "      <td>Public_Transportation</td>\n",
       "      <td>Normal_Weight</td>\n",
       "    </tr>\n",
       "    <tr>\n",
       "      <th>3</th>\n",
       "      <td>Male</td>\n",
       "      <td>27.0</td>\n",
       "      <td>1.80</td>\n",
       "      <td>87.0</td>\n",
       "      <td>no</td>\n",
       "      <td>no</td>\n",
       "      <td>3.0</td>\n",
       "      <td>3.0</td>\n",
       "      <td>Sometimes</td>\n",
       "      <td>no</td>\n",
       "      <td>2.0</td>\n",
       "      <td>no</td>\n",
       "      <td>2.0</td>\n",
       "      <td>0.0</td>\n",
       "      <td>Frequently</td>\n",
       "      <td>Walking</td>\n",
       "      <td>Overweight_Level_I</td>\n",
       "    </tr>\n",
       "    <tr>\n",
       "      <th>4</th>\n",
       "      <td>Male</td>\n",
       "      <td>22.0</td>\n",
       "      <td>1.78</td>\n",
       "      <td>89.8</td>\n",
       "      <td>no</td>\n",
       "      <td>no</td>\n",
       "      <td>2.0</td>\n",
       "      <td>1.0</td>\n",
       "      <td>Sometimes</td>\n",
       "      <td>no</td>\n",
       "      <td>2.0</td>\n",
       "      <td>no</td>\n",
       "      <td>0.0</td>\n",
       "      <td>0.0</td>\n",
       "      <td>Sometimes</td>\n",
       "      <td>Public_Transportation</td>\n",
       "      <td>Overweight_Level_II</td>\n",
       "    </tr>\n",
       "    <tr>\n",
       "      <th>5</th>\n",
       "      <td>Male</td>\n",
       "      <td>29.0</td>\n",
       "      <td>1.62</td>\n",
       "      <td>53.0</td>\n",
       "      <td>no</td>\n",
       "      <td>yes</td>\n",
       "      <td>2.0</td>\n",
       "      <td>3.0</td>\n",
       "      <td>Sometimes</td>\n",
       "      <td>no</td>\n",
       "      <td>2.0</td>\n",
       "      <td>no</td>\n",
       "      <td>0.0</td>\n",
       "      <td>0.0</td>\n",
       "      <td>Sometimes</td>\n",
       "      <td>Automobile</td>\n",
       "      <td>Normal_Weight</td>\n",
       "    </tr>\n",
       "    <tr>\n",
       "      <th>6</th>\n",
       "      <td>Female</td>\n",
       "      <td>23.0</td>\n",
       "      <td>1.50</td>\n",
       "      <td>55.0</td>\n",
       "      <td>yes</td>\n",
       "      <td>yes</td>\n",
       "      <td>3.0</td>\n",
       "      <td>3.0</td>\n",
       "      <td>Sometimes</td>\n",
       "      <td>no</td>\n",
       "      <td>2.0</td>\n",
       "      <td>no</td>\n",
       "      <td>1.0</td>\n",
       "      <td>0.0</td>\n",
       "      <td>Sometimes</td>\n",
       "      <td>Motorbike</td>\n",
       "      <td>Normal_Weight</td>\n",
       "    </tr>\n",
       "    <tr>\n",
       "      <th>7</th>\n",
       "      <td>Male</td>\n",
       "      <td>22.0</td>\n",
       "      <td>1.64</td>\n",
       "      <td>53.0</td>\n",
       "      <td>no</td>\n",
       "      <td>no</td>\n",
       "      <td>2.0</td>\n",
       "      <td>3.0</td>\n",
       "      <td>Sometimes</td>\n",
       "      <td>no</td>\n",
       "      <td>2.0</td>\n",
       "      <td>no</td>\n",
       "      <td>3.0</td>\n",
       "      <td>0.0</td>\n",
       "      <td>Sometimes</td>\n",
       "      <td>Public_Transportation</td>\n",
       "      <td>Normal_Weight</td>\n",
       "    </tr>\n",
       "    <tr>\n",
       "      <th>8</th>\n",
       "      <td>Male</td>\n",
       "      <td>24.0</td>\n",
       "      <td>1.78</td>\n",
       "      <td>64.0</td>\n",
       "      <td>yes</td>\n",
       "      <td>yes</td>\n",
       "      <td>3.0</td>\n",
       "      <td>3.0</td>\n",
       "      <td>Sometimes</td>\n",
       "      <td>no</td>\n",
       "      <td>2.0</td>\n",
       "      <td>no</td>\n",
       "      <td>1.0</td>\n",
       "      <td>1.0</td>\n",
       "      <td>Frequently</td>\n",
       "      <td>Public_Transportation</td>\n",
       "      <td>Normal_Weight</td>\n",
       "    </tr>\n",
       "    <tr>\n",
       "      <th>9</th>\n",
       "      <td>Male</td>\n",
       "      <td>22.0</td>\n",
       "      <td>1.72</td>\n",
       "      <td>68.0</td>\n",
       "      <td>yes</td>\n",
       "      <td>yes</td>\n",
       "      <td>2.0</td>\n",
       "      <td>3.0</td>\n",
       "      <td>Sometimes</td>\n",
       "      <td>no</td>\n",
       "      <td>2.0</td>\n",
       "      <td>no</td>\n",
       "      <td>1.0</td>\n",
       "      <td>1.0</td>\n",
       "      <td>no</td>\n",
       "      <td>Public_Transportation</td>\n",
       "      <td>Normal_Weight</td>\n",
       "    </tr>\n",
       "  </tbody>\n",
       "</table>\n",
       "</div>"
      ],
      "text/plain": [
       "   Gender   Age  Height  Weight FHWO FAVC  FCVC  NCP       CAEC SMOKE  CH2O  \\\n",
       "0  Female  21.0    1.62    64.0  yes   no   2.0  3.0  Sometimes    no   2.0   \n",
       "1  Female  21.0    1.52    56.0  yes   no   3.0  3.0  Sometimes   yes   3.0   \n",
       "2    Male  23.0    1.80    77.0  yes   no   2.0  3.0  Sometimes    no   2.0   \n",
       "3    Male  27.0    1.80    87.0   no   no   3.0  3.0  Sometimes    no   2.0   \n",
       "4    Male  22.0    1.78    89.8   no   no   2.0  1.0  Sometimes    no   2.0   \n",
       "5    Male  29.0    1.62    53.0   no  yes   2.0  3.0  Sometimes    no   2.0   \n",
       "6  Female  23.0    1.50    55.0  yes  yes   3.0  3.0  Sometimes    no   2.0   \n",
       "7    Male  22.0    1.64    53.0   no   no   2.0  3.0  Sometimes    no   2.0   \n",
       "8    Male  24.0    1.78    64.0  yes  yes   3.0  3.0  Sometimes    no   2.0   \n",
       "9    Male  22.0    1.72    68.0  yes  yes   2.0  3.0  Sometimes    no   2.0   \n",
       "\n",
       "   SCC  FAF  TUE        CALC                 MTRANS         ObesityLevel  \n",
       "0   no  0.0  1.0          no  Public_Transportation        Normal_Weight  \n",
       "1  yes  3.0  0.0   Sometimes  Public_Transportation        Normal_Weight  \n",
       "2   no  2.0  1.0  Frequently  Public_Transportation        Normal_Weight  \n",
       "3   no  2.0  0.0  Frequently                Walking   Overweight_Level_I  \n",
       "4   no  0.0  0.0   Sometimes  Public_Transportation  Overweight_Level_II  \n",
       "5   no  0.0  0.0   Sometimes             Automobile        Normal_Weight  \n",
       "6   no  1.0  0.0   Sometimes              Motorbike        Normal_Weight  \n",
       "7   no  3.0  0.0   Sometimes  Public_Transportation        Normal_Weight  \n",
       "8   no  1.0  1.0  Frequently  Public_Transportation        Normal_Weight  \n",
       "9   no  1.0  1.0          no  Public_Transportation        Normal_Weight  "
      ]
     },
     "execution_count": 3,
     "metadata": {},
     "output_type": "execute_result"
    }
   ],
   "source": [
    "file_zip_url = \"https://archive.ics.uci.edu/static/public/544/estimation+of+obesity+levels+based+on+eating+habits+and+physical+condition.zip\"\n",
    "file_zip_name = \"obesity_data.zip\"\n",
    "file = \"./ObesityDataSet_raw_and_data_sinthetic.csv\"\n",
    "\n",
    "if not os.path.exists(file_zip_name):\n",
    "    from urllib.request import urlretrieve\n",
    "    urlretrieve(file_zip_url, file_zip_name)\n",
    "    from zipfile import ZipFile\n",
    "    with ZipFile(file_zip_name) as f:\n",
    "        f.extractall()\n",
    "\n",
    "obesity_row_data = pd.read_csv(file)\n",
    "obesity_row_data = obesity_row_data.rename(columns={\"family_history_with_overweight\" : \"FHWO\", \"NObeyesdad\" : \"ObesityLevel\"})\n",
    "\n",
    "obesity_row_data.head(10)"
   ]
  },
  {
   "cell_type": "markdown",
   "metadata": {
    "id": "hCJQeAsEuTAU"
   },
   "source": [
    "Sopra viene mostrato un piccolo estratto del dataset in esame, dopo aver rinominato alcune feature per migliorarne la leggibilità e l'utilizzo.\n",
    "\n",
    "Di seguito sono riportate le dimensioni in memoria, il numero di istanze non nulle e il tipo delle feature che compongono i dati raccolti nel dataset.\n"
   ]
  },
  {
   "cell_type": "code",
   "execution_count": 4,
   "metadata": {
    "id": "63JGnCPM6FN1"
   },
   "outputs": [
    {
     "name": "stdout",
     "output_type": "stream",
     "text": [
      "<class 'pandas.core.frame.DataFrame'>\n",
      "RangeIndex: 2111 entries, 0 to 2110\n",
      "Data columns (total 17 columns):\n",
      " #   Column        Non-Null Count  Dtype  \n",
      "---  ------        --------------  -----  \n",
      " 0   Gender        2111 non-null   object \n",
      " 1   Age           2111 non-null   float64\n",
      " 2   Height        2111 non-null   float64\n",
      " 3   Weight        2111 non-null   float64\n",
      " 4   FHWO          2111 non-null   object \n",
      " 5   FAVC          2111 non-null   object \n",
      " 6   FCVC          2111 non-null   float64\n",
      " 7   NCP           2111 non-null   float64\n",
      " 8   CAEC          2111 non-null   object \n",
      " 9   SMOKE         2111 non-null   object \n",
      " 10  CH2O          2111 non-null   float64\n",
      " 11  SCC           2111 non-null   object \n",
      " 12  FAF           2111 non-null   float64\n",
      " 13  TUE           2111 non-null   float64\n",
      " 14  CALC          2111 non-null   object \n",
      " 15  MTRANS        2111 non-null   object \n",
      " 16  ObesityLevel  2111 non-null   object \n",
      "dtypes: float64(8), object(9)\n",
      "memory usage: 1.1 MB\n"
     ]
    }
   ],
   "source": [
    "obesity_row_data.info(memory_usage=\"deep\");"
   ]
  },
  {
   "cell_type": "markdown",
   "metadata": {
    "id": "uJ_wJWmb6RLz"
   },
   "source": [
    "Osserviamo come molte delle feature sono di tipo `object`. Procediamo di seguito con la trasformazione in variabili categoriche e booleane per limitare la memoria occupata."
   ]
  },
  {
   "cell_type": "code",
   "execution_count": 5,
   "metadata": {
    "id": "oE1VqA6ZXDoh"
   },
   "outputs": [
    {
     "name": "stdout",
     "output_type": "stream",
     "text": [
      "<class 'pandas.core.frame.DataFrame'>\n",
      "RangeIndex: 2111 entries, 0 to 2110\n",
      "Columns: 17 entries, Gender to ObesityLevel\n",
      "dtypes: bool(4), category(8), float64(4), object(1)\n",
      "memory usage: 358.4 KB\n"
     ]
    }
   ],
   "source": [
    "categorical = [\"NCP\", \"CAEC\", \"CH2O\", \"FAF\",\n",
    "               \"TUE\", \"CALC\", \"MTRANS\", \"ObesityLevel\"];\n",
    "boolean = [\"FHWO\", \"FAVC\", \"SMOKE\", \"SCC\"]\n",
    "\n",
    "obesity_row_data[categorical] = obesity_row_data[categorical].astype(\"category\")\n",
    "\n",
    "obesity_row_data[boolean] = obesity_row_data[boolean].apply(lambda x: x.map({\"yes\": True, \"no\": False})).astype(bool)\n",
    "\n",
    "obesity_row_data.info(verbose=False, memory_usage=\"deep\");"
   ]
  },
  {
   "cell_type": "markdown",
   "metadata": {
    "id": "GhEWkZXb0Z_g"
   },
   "source": [
    "Osserviamo come tutte le feature sono rileventi per il problema, e soprattutto che nessuna delle stesse presenta valori nulli. Non risulta perciò necessaria nessuna pulizia dei dati."
   ]
  },
  {
   "cell_type": "code",
   "execution_count": null,
   "metadata": {},
   "outputs": [],
   "source": []
  },
  {
   "cell_type": "markdown",
   "metadata": {
    "id": "-hJ_Ee9NYhJl"
   },
   "source": [
    "## Descrizione delle feature\n",
    "Il dataset contiene le seguenti feature:\n",
    "*   `Gender`: genere (Male, Female)\n",
    "*   `Age`: età\n",
    "*   `Height`: altezza in metri\n",
    "*   `Weight`: peso in kilogrammi\n",
    "*   `FHWO`: indica se il soggetto ha familiari che sono o sono stati sovrappeso (yes, no)\n",
    "*   `FAVC`: indica se il soggetto mangia spesso cibo ad alto contenuto calorico o meno (yes, no)\n",
    "*   `FCVC`: indica se solitamente il soggetto mangia verdura durante i pasti o meno (Never = 1, Sometimes = 2, Always = 3)\n",
    "*   `NCP`: indica quanti pasti consuma il soggetto durante la giornata\n",
    "*   `CAEC`: indica se il soggetto mangia tra i pasti (No, Sometimes, Frequently, Always)\n",
    "*   `SMOKE`: indica se il soggetto fuma o meno (yes, no)\n",
    "*   `CH2O`: indica quanta acqua beve il soggetto durante il giorno\n",
    "*   `SCC`: indica se il soggetto monitora le calorie che assume durante il giorno (yes, no)\n",
    "*   `FAF`: indica quanto spesso il soggetto svolge attività fisica durante la settimana\n",
    "*   `TUE`: indica quanto spesso il soggetto utilizza apparecchi tecnologici durante il giorno come telefono, videogiochi, tv, computer o altri\n",
    "*   `CALC`: indica quanto spesso il soggetto beve (Never, Sometimes, Frequently, Always)\n",
    "*   `MTRANS`: indica quale mezzo di trasporto utilizza solitamente il soggetto (Automobile, Motorbike, Bike, Public Transport, Walking)\n",
    "\n",
    "La variabile target è `ObesityLevel`, che rappresenta il livello di obesità nelle seguenti classi: Insufficient Weight, Normal Weight, Overweight Level I, Overweight Level II, Obesity Type I, Obesity Type II, and Obesity Type III.\n",
    "\n",
    "Le features in esame sono sia categoriche, binarie, che continue:<br>\n",
    "Tra le categoriche troviamo: `Gender`, `CAEC`, `CALC` e `MTRANS`.<br>\n",
    "Tra le continue troviamo: `Age`, `Height`, `Weight`, `FCVC`, `CH2O`, `FAF` e `TUE`.<br>\n",
    "Tra le binarie troviamo: `FHWO`, `FAVC`, `SMOKE` e `SCC`."
   ]
  },
  {
   "cell_type": "code",
   "execution_count": 7,
   "metadata": {
    "id": "tVS4ZnU8kLDW"
   },
   "outputs": [
    {
     "data": {
      "image/png": "[encoded data removed]",
      "text/plain": [
       "<Figure size 640x480 with 1 Axes>"
      ]
     },
     "metadata": {},
     "output_type": "display_data"
    },
    {
     "data": {
      "text/plain": [
       "<Figure size 640x480 with 0 Axes>"
      ]
     },
     "metadata": {},
     "output_type": "display_data"
    },
    {
     "data": {
      "text/plain": [
       "<Axes: title={'center': 'Distribuzione delle Istanze per Livello di Obesità'}, xlabel='Livello di Obesità', ylabel='Numero di Istanze'>"
      ]
     },
     "execution_count": 7,
     "metadata": {},
     "output_type": "execute_result"
    },
    {
     "data": {
      "image/png": "[encoded data removed]",
      "text/plain": [
       "<Figure size 640x480 with 1 Axes>"
      ]
     },
     "metadata": {},
     "output_type": "display_data"
    }
   ],
   "source": [
    "obesity_row_data[\"ObesityLevel\"].value_counts().plot.pie(autopct='%1.1f%%', startangle=90)\n",
    "plt.ylabel(None)\n",
    "plt.figure().set_facecolor('white')\n",
    "plt.show()\n",
    "\n",
    "obesity_row_data[\"ObesityLevel\"].value_counts().plot.bar(color='skyblue', rot=90, xlabel='Livello di Obesità', ylabel='Numero di Istanze', title='Distribuzione delle Istanze per Livello di Obesità')"
   ]
  },
  {
   "cell_type": "markdown",
   "metadata": {
    "id": "v34ffOYCuaNn"
   },
   "source": [
    "Osserviamo dai grafici come la variabile target `ObesityLevel` risulta essere bilanciata, ovvero il numero di istanze per le possibili classi sono pressochè identiche.  Il problema in esame risulta quindi essere bilanciato e non e' necessario utilizzare tecniche di bilanciamento delle classi."
   ]
  },
  {
   "cell_type": "code",
   "execution_count": 8,
   "metadata": {},
   "outputs": [
    {
     "data": {
      "text/plain": [
       "Gender          0\n",
       "Age             0\n",
       "Height          0\n",
       "Weight          0\n",
       "FHWO            0\n",
       "FAVC            0\n",
       "FCVC            0\n",
       "NCP             0\n",
       "CAEC            0\n",
       "SMOKE           0\n",
       "CH2O            0\n",
       "SCC             0\n",
       "FAF             0\n",
       "TUE             0\n",
       "CALC            0\n",
       "MTRANS          0\n",
       "ObesityLevel    0\n",
       "dtype: int64"
      ]
     },
     "execution_count": 8,
     "metadata": {},
     "output_type": "execute_result"
    }
   ],
   "source": [
    "obesity_row_data.isna().sum()"
   ]
  },
  {
   "cell_type": "markdown",
   "metadata": {},
   "source": [
    "Si verifica come nessuna delle feature del dataset presenta valori nulli. Osserviamo inoltre che tutte le variabili sono rileventi per la modellazione del problema. Non risulta perciò necessaria nessuna pulizia dei dati."
   ]
  },
  {
   "cell_type": "code",
   "execution_count": 7,
   "metadata": {
    "id": "P66wNiky5YRm"
   },
   "outputs": [
    {
     "data": {
      "text/html": [
       "<div>\n",
       "<style scoped>\n",
       "    .dataframe tbody tr th:only-of-type {\n",
       "        vertical-align: middle;\n",
       "    }\n",
       "\n",
       "    .dataframe tbody tr th {\n",
       "        vertical-align: top;\n",
       "    }\n",
       "\n",
       "    .dataframe thead th {\n",
       "        text-align: right;\n",
       "    }\n",
       "</style>\n",
       "<table border=\"1\" class=\"dataframe\">\n",
       "  <thead>\n",
       "    <tr style=\"text-align: right;\">\n",
       "      <th></th>\n",
       "      <th>Age</th>\n",
       "      <th>Height</th>\n",
       "      <th>Weight</th>\n",
       "      <th>FCVC</th>\n",
       "    </tr>\n",
       "  </thead>\n",
       "  <tbody>\n",
       "    <tr>\n",
       "      <th>count</th>\n",
       "      <td>2111.000000</td>\n",
       "      <td>2111.000000</td>\n",
       "      <td>2111.000000</td>\n",
       "      <td>2111.000000</td>\n",
       "    </tr>\n",
       "    <tr>\n",
       "      <th>mean</th>\n",
       "      <td>24.312600</td>\n",
       "      <td>1.701677</td>\n",
       "      <td>86.586058</td>\n",
       "      <td>2.419043</td>\n",
       "    </tr>\n",
       "    <tr>\n",
       "      <th>std</th>\n",
       "      <td>6.345968</td>\n",
       "      <td>0.093305</td>\n",
       "      <td>26.191172</td>\n",
       "      <td>0.533927</td>\n",
       "    </tr>\n",
       "    <tr>\n",
       "      <th>min</th>\n",
       "      <td>14.000000</td>\n",
       "      <td>1.450000</td>\n",
       "      <td>39.000000</td>\n",
       "      <td>1.000000</td>\n",
       "    </tr>\n",
       "    <tr>\n",
       "      <th>25%</th>\n",
       "      <td>19.947192</td>\n",
       "      <td>1.630000</td>\n",
       "      <td>65.473343</td>\n",
       "      <td>2.000000</td>\n",
       "    </tr>\n",
       "    <tr>\n",
       "      <th>50%</th>\n",
       "      <td>22.777890</td>\n",
       "      <td>1.700499</td>\n",
       "      <td>83.000000</td>\n",
       "      <td>2.385502</td>\n",
       "    </tr>\n",
       "    <tr>\n",
       "      <th>75%</th>\n",
       "      <td>26.000000</td>\n",
       "      <td>1.768464</td>\n",
       "      <td>107.430682</td>\n",
       "      <td>3.000000</td>\n",
       "    </tr>\n",
       "    <tr>\n",
       "      <th>max</th>\n",
       "      <td>61.000000</td>\n",
       "      <td>1.980000</td>\n",
       "      <td>173.000000</td>\n",
       "      <td>3.000000</td>\n",
       "    </tr>\n",
       "  </tbody>\n",
       "</table>\n",
       "</div>"
      ],
      "text/plain": [
       "               Age       Height       Weight         FCVC\n",
       "count  2111.000000  2111.000000  2111.000000  2111.000000\n",
       "mean     24.312600     1.701677    86.586058     2.419043\n",
       "std       6.345968     0.093305    26.191172     0.533927\n",
       "min      14.000000     1.450000    39.000000     1.000000\n",
       "25%      19.947192     1.630000    65.473343     2.000000\n",
       "50%      22.777890     1.700499    83.000000     2.385502\n",
       "75%      26.000000     1.768464   107.430682     3.000000\n",
       "max      61.000000     1.980000   173.000000     3.000000"
      ]
     },
     "execution_count": 7,
     "metadata": {},
     "output_type": "execute_result"
    }
   ],
   "source": [
    "obesity_row_data.describe()"
   ]
  },
  {
   "cell_type": "code",
   "execution_count": null,
   "metadata": {},
   "outputs": [],
   "source": []
  }
 ],
 "metadata": {
  "colab": {
   "private_outputs": true,
   "provenance": []
  },
  "kernelspec": {
   "display_name": "Python 3 (ipykernel)",
   "language": "python",
   "name": "python3"
  },
  "language_info": {
   "codemirror_mode": {
    "name": "ipython",
    "version": 3
   },
   "file_extension": ".py",
   "mimetype": "text/x-python",
   "name": "python",
   "nbconvert_exporter": "python",
   "pygments_lexer": "ipython3",
   "version": "3.12.0"
  }
 },
 "nbformat": 4,
 "nbformat_minor": 1
}
