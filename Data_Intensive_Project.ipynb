{
 "cells": [
  {
   "cell_type": "markdown",
   "metadata": {
    "id": "sRlZanLmPzG8"
   },
   "source": [
    "Lorenzo Colletta, Giorgio Fantilli, Luca Lucioli"
   ]
  },
  {
   "cell_type": "markdown",
   "metadata": {
    "id": "xbIORchGW1oz"
   },
   "source": [
    "## Parte 1 - Descrizione del problema\n",
    "\n",
    "Il dataset in esame include dati per la stima dei livelli di obesità negli individui provenienti dai paesi di Messico, Perù e Colombia, in base alle loro abitudini alimentari e alle condizioni fisiche.\n",
    "Le istanze sono classificate in base al livello di obesità (Peso Insufficiente, Peso Normale, Sovrappeso Livello I, Sovrappeso Livello II, Obesità Tipo I, Obesità Tipo II e Obesità Tipo III). Il 77% dei dati è stato generato artificialmente utilizzando lo strumento Weka e il filtro SMOTE, mentre il 23% dei dati è stato raccolto direttamente dagli utenti attraverso una piattaforma web.\n",
    "\n",
    "L'obiettivo è predire il livello di obesità dei soggetti utilizzando i loro dati antropometrici, le informazioni sulle loro abitudini alimentari e sull'attività fisica.\n",
    "\n",
    "Di seguito vengono importate le librerie necessarie per scaricare i file, organizzare le strutture dati e disegnare i grafici."
   ]
  },
  {
   "cell_type": "code",
   "execution_count": null,
   "metadata": {
    "id": "ECDeFnTwQybP"
   },
   "outputs": [],
   "source": [
    "import os.path\n",
    "\n",
    "import numpy as np\n",
    "import pandas as pd\n",
    "import matplotlib.pyplot as plt\n",
    "from dython.nominal import associations\n",
    "import seaborn as sns\n",
    "\n",
    "%matplotlib inline"
   ]
  },
  {
   "cell_type": "markdown",
   "metadata": {
    "id": "CGtjGX1HVOyH"
   },
   "source": [
    "### Caricamento dati e preprocessing"
   ]
  },
  {
   "cell_type": "code",
   "execution_count": null,
   "metadata": {
    "id": "8O5CGPhUQe5b"
   },
   "outputs": [],
   "source": [
    "file_zip_url = \"https://archive.ics.uci.edu/static/public/544/estimation+of+obesity+levels+based+on+eating+habits+and+physical+condition.zip\"\n",
    "file_zip_name = \"obesity_data.zip\"\n",
    "file = \"./ObesityDataSet_raw_and_data_sinthetic.csv\"\n",
    "\n",
    "if not os.path.exists(file_zip_name):\n",
    "    from urllib.request import urlretrieve\n",
    "    urlretrieve(file_zip_url, file_zip_name)\n",
    "    from zipfile import ZipFile\n",
    "    with ZipFile(file_zip_name) as f:\n",
    "        f.extractall()\n",
    "\n",
    "obesity_raw_data = pd.read_csv(file)\n",
    "obesity_raw_data = obesity_raw_data.rename(columns={\"family_history_with_overweight\" : \"FHWO\", \"NObeyesdad\" : \"ObesityLevel\"})\n",
    "\n",
    "obesity_raw_data.head(10)"
   ]
  },
  {
   "cell_type": "markdown",
   "metadata": {
    "id": "hCJQeAsEuTAU"
   },
   "source": [
    "Sopra viene mostrato un piccolo estratto del dataset in esame, dopo aver rinominato alcune feature per migliorarne la leggibilità e l'utilizzo.\n",
    "\n",
    "Di seguito sono riportate le dimensioni in memoria, il numero di istanze non nulle e il tipo delle feature che compongono i dati raccolti nel dataset.\n"
   ]
  },
  {
   "cell_type": "code",
   "execution_count": null,
   "metadata": {
    "id": "63JGnCPM6FN1"
   },
   "outputs": [],
   "source": [
    "obesity_raw_data.info(memory_usage=\"deep\")"
   ]
  },
  {
   "cell_type": "markdown",
   "metadata": {
    "id": "uJ_wJWmb6RLz"
   },
   "source": [
    "Osserviamo come molte delle feature sono di tipo `object`. Procediamo di seguito con la trasformazione in variabili categoriche e booleane per limitare la memoria occupata."
   ]
  },
  {
   "cell_type": "code",
   "execution_count": null,
   "metadata": {
    "id": "oE1VqA6ZXDoh"
   },
   "outputs": [],
   "source": [
    "categorical = [\"Gender\", \"CAEC\", \"CALC\", \"MTRANS\", \"ObesityLevel\"]\n",
    "boolean = [\"FHWO\", \"FAVC\", \"SMOKE\", \"SCC\"]\n",
    "\n",
    "obesity_raw_data[categorical] = obesity_raw_data[categorical].astype(\"category\")\n",
    "\n",
    "obesity_raw_data[boolean] = obesity_raw_data[boolean].replace({\"yes\": True, \"no\": False})\n",
    "\n",
    "obesity_raw_data.info(memory_usage=\"deep\")"
   ]
  },
  {
   "cell_type": "markdown",
   "metadata": {
    "id": "GhEWkZXb0Z_g"
   },
   "source": [
    "Osserviamo come tutte le feature sono rileventi per il problema, e soprattutto che nessuna delle stesse presenta valori nulli. Non risulta perciò necessaria nessuna pulizia dei dati."
   ]
  },
  {
   "cell_type": "markdown",
   "metadata": {
    "id": "-hJ_Ee9NYhJl"
   },
   "source": [
    "### Descrizione delle feature\n",
    "Il dataset contiene le seguenti feature:\n",
    "*   `Gender`: genere (Male, Female)\n",
    "*   `Age`: età\n",
    "*   `Height`: altezza in metri\n",
    "*   `Weight`: peso in kilogrammi\n",
    "*   `FHWO`: indica se il soggetto ha familiari che sono o sono stati sovrappeso (yes, no)\n",
    "*   `FAVC`: indica se il soggetto mangia spesso cibo ad alto contenuto calorico o meno (yes, no)\n",
    "*   `FCVC`: indica se solitamente il soggetto mangia verdura durante i pasti o meno (Never, Sometimes, Always)\n",
    "*   `NCP`: indica quanti pasti consuma il soggetto durante la giornata (tra 1 e 2, 3, più di 3)\n",
    "*   `CAEC`: indica se il soggetto mangia tra i pasti (No, Sometimes, Frequently, Always)\n",
    "*   `SMOKE`: indica se il soggetto fuma o meno (yes, no)\n",
    "*   `CH2O`: indica quanta acqua beve il soggetto durante il giorno (meno di 1l, tra 1l e 2l, più di 2l)\n",
    "*   `SCC`: indica se il soggetto monitora le calorie che assume durante il giorno (yes, no)\n",
    "*   `FAF`: indica quanto spesso il soggetto svolge attività fisica durante la settimana (mai, 1 o 2 giorni, 2 o 4 giorni, 4 o 5 giorni)\n",
    "*   `TUE`: indica quanto spesso il soggetto utilizza apparecchi tecnologici durante il giorno come telefono, videogiochi, tv, computer o altri (0-2 ore, 3-5 ore, più di 5 ore)\n",
    "*   `CALC`: indica quanto spesso il soggetto beve alcool (Never, Sometimes, Frequently, Always)\n",
    "*   `MTRANS`: indica quale mezzo di trasporto utilizza solitamente il soggetto (Automobile, Motorbike, Bike, Public Transportation, Walking)\n",
    "\n",
    "La variabile target è `ObesityLevel`, che rappresenta il livello di obesità nelle seguenti classi: Insufficient Weight, Normal Weight, Overweight Level I, Overweight Level II, Obesity Type I, Obesity Type II, and Obesity Type III.\n",
    "\n",
    "Le features in esame sono sia categoriche, binarie, che continue:<br>\n",
    "Tra le categoriche troviamo: `Gender`, `CAEC`, `CALC` e `MTRANS`.<br>\n",
    "Tra le continue troviamo: `Age`, `Height`, `Weight`, `FCVC`, `NCP`, `CH2O`, `FAF` e `TUE`.<br>\n",
    "Tra le binarie troviamo: `FHWO`, `FAVC`, `SMOKE` e `SCC`.\n",
    "\n",
    "Si segnala che `FCVC`, `NCP`, `CH2O`, `FAF` e `TUE` sono feature di natura categorica ma assumono valori continui in quanto una parte dei dati è stata generata artificialmente. Si posticipa la scelta dell'approccio da utilizzare per la gestione di tali variabili."
   ]
  },
  {
   "cell_type": "code",
   "execution_count": null,
   "metadata": {
    "id": "tVS4ZnU8kLDW"
   },
   "outputs": [],
   "source": [
    "obesity_raw_data[\"ObesityLevel\"].value_counts().plot.pie(autopct='%1.1f%%', startangle=90)\n",
    "plt.ylabel(None)\n",
    "plt.figure().set_facecolor('white')\n",
    "plt.show()\n",
    "\n",
    "obesity_raw_data[\"ObesityLevel\"].value_counts().plot.bar(color='skyblue', rot=90, xlabel='Livello di Obesità', ylabel='Numero di Istanze', title='Distribuzione delle Istanze per Livello di Obesità')"
   ]
  },
  {
   "cell_type": "markdown",
   "metadata": {
    "id": "v34ffOYCuaNn"
   },
   "source": [
    "Osserviamo dai grafici come la variabile target `ObesityLevel` risulta essere bilanciata, ovvero il numero di istanze per le possibili classi sono pressochè identiche.  Il problema in esame risulta quindi essere bilanciato e non e' necessario utilizzare tecniche di bilanciamento delle classi."
   ]
  },
  {
   "cell_type": "code",
   "execution_count": null,
   "metadata": {},
   "outputs": [],
   "source": [
    "obesity_raw_data.isna().sum()"
   ]
  },
  {
   "cell_type": "markdown",
   "metadata": {},
   "source": [
    "Si verifica come nessuna delle feature del dataset presenta valori nulli. Osserviamo inoltre che tutte le variabili sono rileventi per la modellazione del problema. Non risulta perciò necessaria nessuna pulizia dei dati."
   ]
  },
  {
   "cell_type": "markdown",
   "metadata": {},
   "source": [
    "## Parte 2 - Analisi Esplorativa"
   ]
  },
  {
   "cell_type": "markdown",
   "metadata": {},
   "source": [
    "### Esplorazione delle feature continue"
   ]
  },
  {
   "cell_type": "markdown",
   "metadata": {},
   "source": [
    "Di seguito sono riportate le statistiche generali delle feature continue del dataset (media, minimo, massimo, deviazione standard e percentili) e vengono mostrati gli istogrammi relativi alla distribuzione dei loro valori."
   ]
  },
  {
   "cell_type": "code",
   "execution_count": null,
   "metadata": {
    "id": "P66wNiky5YRm"
   },
   "outputs": [],
   "source": [
    "obesity_raw_data[['Age', 'Height', 'Weight']].describe()"
   ]
  },
  {
   "cell_type": "markdown",
   "metadata": {},
   "source": [
    "Si nota che i soggetti del campione hanno tra i 14 e i 61 anni. Rilevando che il 75% ha meno di 26 anni, la media è di circa 24 anni e la deviazione standard è 6.35, si può ipotizzare che la maggior parte dei soggetti ha tra i 20 e i 30 anni.<br>\n",
    "Il peso massimo registrato è pari a 173kg ma il 75% dei soggetti pesa meno di 107kg, è perciò probabile la presenza di valori di peso particolari nell'estremo superiore. Nell'estremo inferiore i valori sono invece coerenti con le caratteristiche antropometriche del campione (età e altezza)."
   ]
  },
  {
   "cell_type": "code",
   "execution_count": null,
   "metadata": {},
   "outputs": [],
   "source": [
    "plt.figure(figsize=(20, 5))\n",
    "\n",
    "plt.subplot(1, 3, 1)\n",
    "plt.title('Age')\n",
    "plt.hist(obesity_raw_data['Age'], label=\"Age\", color='gray')\n",
    "plt.ylabel('count')\n",
    "plt.xlabel('anni')\n",
    "\n",
    "plt.subplot(1, 3, 2)\n",
    "plt.title('Weight')\n",
    "plt.hist(obesity_raw_data['Weight'], label=\"weight\")\n",
    "plt.ylabel('count')\n",
    "plt.xlabel('Kg')\n",
    "\n",
    "plt.subplot(1, 3, 3)\n",
    "plt.title('Height')\n",
    "plt.hist(obesity_raw_data['Height'], label=\"height\", color=\"tab:red\")\n",
    "plt.ylabel('count')\n",
    "plt.xlabel('m')\n",
    "plt.show()"
   ]
  },
  {
   "cell_type": "markdown",
   "metadata": {},
   "source": [
    "* L'istogramma dell'età conferma l'ipotesi di cui sopra: la maggior parte dei soggetti ha un età compresa tra i 20 e i 30 anni. Si può osservare come il numero delle istanze tenda a diminuire all'avanzare dell'età, diventando trascurabile nella parte finale del grafico.\n",
    "* Come precedentemente osservato, il grafico del peso rileva una distribuzione delle istanze congrua con il campione, ad eccezione dei valori più alti che risultano poco popolati.\n",
    "* Il grafico dell'altezza è conforme alla distribuzione attesa per la variabile. "
   ]
  },
  {
   "cell_type": "markdown",
   "metadata": {},
   "source": [
    "### Rimozione degli outliers"
   ]
  },
  {
   "cell_type": "code",
   "execution_count": null,
   "metadata": {},
   "outputs": [],
   "source": [
    "plt.figure(figsize=(20, 30))\n",
    "\n",
    "plt.subplot(4, 3, 1)\n",
    "plt.title('Age')\n",
    "plt.boxplot(obesity_raw_data['Age'])\n",
    "plt.ylabel('anni')\n",
    "\n",
    "plt.subplot(4, 3, 2)\n",
    "plt.title('Weight')\n",
    "plt.boxplot(obesity_raw_data['Weight'])\n",
    "plt.ylabel('Kg')\n",
    "\n",
    "plt.subplot(4, 3, 3)\n",
    "plt.title('Height')\n",
    "plt.boxplot(obesity_raw_data['Height'])\n",
    "plt.ylabel('m')\n",
    "\n",
    "plt.show()"
   ]
  },
  {
   "cell_type": "markdown",
   "metadata": {},
   "source": [
    "I grafici sopra permettono di visualizzare meglio la distribuzione dei dati più estremi del campione.<br>\n",
    "Il primo box plot conferma la tendenza dei record a diminuire con l'aumentare dell'età, in particolare il numero di istanze che assumono un'età superiore a circa 50 anni diventa trascurabile.<br>\n",
    "Il secondo grafico mostra la presenza di istanze che assumono valori massimi anomali nell'estremità superiore per la variabile del peso, come precedentemente ipotizzato.<br>\n",
    "La distribuzione delle altezze si conferma corretta, a scanso di isolati valori limite superiori.\n",
    "\n",
    "Si procede di seguito, in base alle precedenti osservazioni, con la rimozione degli outliers sulla base delle deviazioni standard."
   ]
  },
  {
   "cell_type": "code",
   "execution_count": null,
   "metadata": {},
   "outputs": [],
   "source": [
    "obesity_raw_data.drop(obesity_raw_data.loc[abs(obesity_raw_data['Age'] - obesity_raw_data['Age'].mean()) > 3 * obesity_raw_data['Age'].std()].index, inplace=True)\n",
    "obesity_raw_data.drop(obesity_raw_data.loc[abs(obesity_raw_data['Weight'] - obesity_raw_data['Weight'].mean()) > 3 * obesity_raw_data['Weight'].std()].index, inplace=True)\n",
    "obesity_raw_data.drop(obesity_raw_data.loc[abs(obesity_raw_data['Height'] - obesity_raw_data['Height'].mean()) > 3 * obesity_raw_data['Height'].std()].index, inplace=True)"
   ]
  },
  {
   "cell_type": "code",
   "execution_count": null,
   "metadata": {},
   "outputs": [],
   "source": [
    "plt.figure(figsize=(20, 30))\n",
    "\n",
    "plt.subplot(4, 3, 1)\n",
    "plt.title('Age')\n",
    "plt.boxplot(obesity_raw_data['Age'])\n",
    "plt.ylabel('anni')\n",
    "\n",
    "plt.subplot(4, 3, 2)\n",
    "plt.title('Weight')\n",
    "plt.boxplot(obesity_raw_data['Weight'])\n",
    "plt.ylabel('Kg')\n",
    "\n",
    "plt.subplot(4, 3, 3)\n",
    "plt.title('Height')\n",
    "plt.boxplot(obesity_raw_data['Height'])\n",
    "plt.ylabel('m')\n",
    "\n",
    "plt.show()"
   ]
  },
  {
   "cell_type": "code",
   "execution_count": null,
   "metadata": {},
   "outputs": [],
   "source": [
    "obesity_raw_data[['Age', 'Height', 'Weight']].describe()"
   ]
  },
  {
   "cell_type": "markdown",
   "metadata": {},
   "source": [
    "L'operazione comporta la perdita di sole 25 istanze limite. Dai grafici e dalle statistiche generali delle feature si osserva che sono state rimossi i record con età superiore ai circa 44 anni, con un peso superiore ai circa 165kg; non sono stati cancellati record sulla base dei valori assunti dall'altezza.<br>\n",
    "Le colonne interessate hanno mantenuto la medesima media, andando invece a migliorare la relativa deviazione standard."
   ]
  },
  {
   "cell_type": "markdown",
   "metadata": {},
   "source": [
    "### Esplorazione delle feature continue di natura categorica"
   ]
  },
  {
   "cell_type": "code",
   "execution_count": null,
   "metadata": {},
   "outputs": [],
   "source": [
    "plt.figure(figsize=(20, 10))\n",
    "\n",
    "plt.subplot(2, 3, 1)\n",
    "plt.title('FCVC')\n",
    "fcvc = obesity_raw_data[\"FCVC\"].value_counts()\n",
    "plt.scatter(fcvc.keys(), fcvc.values, color=\"purple\")\n",
    "plt.ylabel('count')\n",
    "plt.xlabel('frequenza')\n",
    "\n",
    "plt.subplot(2, 3, 2)\n",
    "plt.title('NCP')\n",
    "ncp = obesity_raw_data[\"NCP\"].value_counts()\n",
    "plt.scatter(ncp.keys(), ncp.values)\n",
    "plt.ylabel('count')\n",
    "plt.xlabel('n. pasti')\n",
    "\n",
    "\n",
    "plt.subplot(2, 3, 3)\n",
    "plt.title('CH2O')\n",
    "ch2o = obesity_raw_data[\"CH2O\"].value_counts()\n",
    "plt.scatter(ch2o.keys(), ch2o.values, color=\"tab:orange\")\n",
    "plt.ylabel('count')\n",
    "plt.xlabel('l')\n",
    "\n",
    "plt.subplot(2, 3, 4)\n",
    "plt.title('FAF')\n",
    "faf = obesity_raw_data[\"FAF\"].value_counts()\n",
    "plt.scatter(faf.keys(), faf.values, color=\"tab:red\")\n",
    "plt.ylabel('count')\n",
    "plt.xlabel('giorni a settimana')\n",
    "\n",
    "plt.subplot(2, 3, 5)\n",
    "plt.title('TUE')\n",
    "tue = obesity_raw_data[\"TUE\"].value_counts()\n",
    "plt.scatter(tue.keys(), tue.values, color=\"tab:green\")\n",
    "plt.ylabel('count')\n",
    "plt.xlabel('ore giornaliere')\n",
    "\n",
    "plt.show()"
   ]
  },
  {
   "cell_type": "markdown",
   "metadata": {},
   "source": [
    "I grafici mostrati sono relativi alle sopracitate variabili di natura categorica ma trattate come continue. Si osserva che la maggior parte delle istanze ricadono precisamente in delle specifiche classi, mentre i restanti valori si distribuiscono in maniera uniforme tra le stesse.\n",
    "Vista la necessità di ricondursi a valori di tipo categorico si procede con l'arrotondamento al valore intero più vicino."
   ]
  },
  {
   "cell_type": "code",
   "execution_count": null,
   "metadata": {},
   "outputs": [],
   "source": [
    "obesity_round_data = obesity_raw_data.copy()\n",
    "obesity_round_data['NCP'] = obesity_round_data['NCP'].apply(lambda x: 1 if 1 <= x < 2 else (3 if 2 <= x < 3.5 else round(x))).astype(int) \n",
    "obesity_round_data['FCVC'] = obesity_round_data['FCVC'].round().astype(int)\n",
    "obesity_round_data['CH2O'] = obesity_round_data['CH2O'].round().astype(int)\n",
    "obesity_round_data['FAF'] = obesity_round_data['FAF'].round().astype(int)\n",
    "obesity_round_data['TUE'] = obesity_round_data['TUE'].round().astype(int)\n",
    "\n",
    "plt.figure(figsize=(20, 10))\n",
    "\n",
    "plt.subplot(2, 3, 1)\n",
    "plt.title('FCVC')\n",
    "fcvc = obesity_round_data[\"FCVC\"].value_counts()\n",
    "plt.scatter(fcvc.keys(), fcvc.values, color=\"purple\")\n",
    "plt.ylabel('count')\n",
    "plt.xlabel('frequenza')\n",
    "\n",
    "plt.subplot(2, 3, 2)\n",
    "plt.title('NCP')\n",
    "ncp = obesity_round_data[\"NCP\"].value_counts()\n",
    "plt.scatter(ncp.keys(), ncp.values)\n",
    "plt.ylabel('count')\n",
    "plt.xlabel('n. pasti')\n",
    "\n",
    "\n",
    "plt.subplot(2, 3, 3)\n",
    "plt.title('CH2O')\n",
    "ch2o = obesity_round_data[\"CH2O\"].value_counts()\n",
    "plt.scatter(ch2o.keys(), ch2o.values, color=\"tab:orange\")\n",
    "plt.ylabel('count')\n",
    "plt.xlabel('l')\n",
    "\n",
    "plt.subplot(2, 3, 4)\n",
    "plt.title('FAF')\n",
    "faf = obesity_round_data[\"FAF\"].value_counts()\n",
    "plt.scatter(faf.keys(), faf.values, color=\"tab:red\")\n",
    "plt.ylabel('count')\n",
    "plt.xlabel('giorni a settimana')\n",
    "\n",
    "plt.subplot(2, 3, 5)\n",
    "plt.title('TUE')\n",
    "tue = obesity_round_data[\"TUE\"].value_counts()\n",
    "plt.scatter(tue.keys(), tue.values, color=\"tab:green\")\n",
    "plt.ylabel('count')\n",
    "plt.xlabel('ore giornaliere')\n",
    "\n",
    "plt.show()"
   ]
  },
  {
   "cell_type": "markdown",
   "metadata": {},
   "source": [
    "Sopra sono riportati i grafici delle feature dopo l'arrotondamento.\n",
    "\n",
    "Di seguito le statistiche generali delle variabili prima e dopo l'operazione. "
   ]
  },
  {
   "cell_type": "code",
   "execution_count": null,
   "metadata": {},
   "outputs": [],
   "source": [
    "obesity_raw_data[['NCP', 'FCVC', 'CH2O', 'FAF', 'TUE']].describe()"
   ]
  },
  {
   "cell_type": "code",
   "execution_count": null,
   "metadata": {},
   "outputs": [],
   "source": [
    "obesity_round_data[['NCP', 'FCVC', 'CH2O', 'FAF', 'TUE']].describe()"
   ]
  },
  {
   "cell_type": "markdown",
   "metadata": {},
   "source": [
    "Come si può notare, riportare i valori non interi all'interno delle classi contemplate ha avuto un impatto alquanto limitato sulle statistiche generali delle feature trattate. In particolare media e deviazione standard dimostrano come la distribuzione dei valori sia coerente con la precedene, grazie ad un corretto bilanciamento dei record generati."
   ]
  },
  {
   "cell_type": "markdown",
   "metadata": {},
   "source": [
    "### Esplorazione delle feature categoriche"
   ]
  },
  {
   "cell_type": "code",
   "execution_count": null,
   "metadata": {},
   "outputs": [],
   "source": [
    "color= ['tab:blue', 'tab:red', 'tab:green', 'tab:orange', 'tab:purple']\n",
    "plt.figure(figsize=(20, 20))\n",
    "\n",
    "plt.subplot(2, 2, 1)\n",
    "plt.title('Gender')\n",
    "plt.bar(obesity_raw_data['Gender'].unique(),\n",
    "        obesity_raw_data['Gender'].value_counts(),\n",
    "        color=color)\n",
    "plt.ylabel('count')\n",
    "\n",
    "plt.subplot(2, 2, 2)\n",
    "plt.title('CAEC')\n",
    "plt.bar(obesity_raw_data['CAEC'].unique(),\n",
    "        obesity_raw_data['CAEC'].value_counts(),\n",
    "        color=color)\n",
    "plt.ylabel('count')\n",
    "\n",
    "plt.subplot(2, 2, 3)\n",
    "plt.title('CALC')\n",
    "plt.bar(obesity_raw_data['CALC'].unique(),\n",
    "        obesity_raw_data['CALC'].value_counts(),\n",
    "        color=color)\n",
    "plt.ylabel('count')\n",
    "\n",
    "plt.subplot(2, 2, 4)\n",
    "plt.title('MTRANS')\n",
    "plt.bar(obesity_raw_data['MTRANS'].unique(),\n",
    "        obesity_raw_data['MTRANS'].value_counts(),\n",
    "        color=color)\n",
    "plt.ylabel('count')\n",
    "\n",
    "plt.show()"
   ]
  },
  {
   "cell_type": "markdown",
   "metadata": {},
   "source": [
    "Dagli istrogrammi sopra osserviamo che i soggetti sono pressochè equamente distribuiti tra maschi e femmine, mangiano qualche volta tra i pasti, non bevono alcool o molto poco e si muovono principalmente con i trasporti pubblici o a piedi."
   ]
  },
  {
   "cell_type": "markdown",
   "metadata": {},
   "source": [
    "### Esplorazione delle feature booleane"
   ]
  },
  {
   "cell_type": "code",
   "execution_count": null,
   "metadata": {},
   "outputs": [],
   "source": [
    "color = ['tab:blue', 'tab:red']\n",
    "plt.figure(figsize=(20, 20))\n",
    "\n",
    "plt.subplot(2, 2, 1)\n",
    "plt.title('FHWO')\n",
    "plt.bar(obesity_raw_data['FHWO'].replace({True: \"SI\", False: \"NO\"}).unique(),\n",
    "        obesity_raw_data['FHWO'].value_counts(),\n",
    "        color=color)\n",
    "plt.ylabel('count')\n",
    "\n",
    "plt.subplot(2, 2, 2)\n",
    "plt.title('FAVC')\n",
    "plt.bar(obesity_raw_data['FAVC'].replace({True: \"SI\", False: \"NO\"}).unique(),\n",
    "        obesity_raw_data['FAVC'].value_counts(),\n",
    "        color=color)\n",
    "plt.ylabel('count')\n",
    "\n",
    "plt.subplot(2, 2, 3)\n",
    "plt.title('SMOKE')\n",
    "plt.bar(obesity_raw_data['SMOKE'].replace({True: \"SI\", False: \"NO\"}).unique(),\n",
    "        obesity_raw_data['SMOKE'].value_counts(),\n",
    "        color=color)\n",
    "plt.ylabel('count')\n",
    "\n",
    "plt.subplot(2, 2, 4)\n",
    "plt.title('SCC')\n",
    "plt.bar(obesity_raw_data['SCC'].replace({True: \"SI\", False: \"NO\"}).unique(),\n",
    "        obesity_raw_data['SCC'].value_counts(),\n",
    "        color=color)\n",
    "plt.ylabel('count')\n",
    "\n",
    "plt.show()"
   ]
  },
  {
   "cell_type": "markdown",
   "metadata": {},
   "source": [
    "I grafici mostrano un comportamento salubre della maggior parte del campione, essendo composto da pochi fumatori e pochi soggetti che mangiano regolarmente alimenti ad alto contenuto calorico (FAVC). La maggioranza non ha familiari che sono o sono stati sovrappeso e non monitora le calorie che assume."
   ]
  },
  {
   "cell_type": "code",
   "execution_count": null,
   "metadata": {},
   "outputs": [],
   "source": [
    "correlation = associations(\n",
    "    obesity_round_data, \n",
    "    nominal_columns='auto',\n",
    "    numerical_columns=None, \n",
    "    mark_columns=False, \n",
    "    nom_nom_assoc='cramer', \n",
    "    num_num_assoc='spearman', \n",
    "    nan_strategy='replace',\n",
    "    plot=False\n",
    ")"
   ]
  },
  {
   "cell_type": "code",
   "execution_count": null,
   "metadata": {},
   "outputs": [],
   "source": [
    "def plot_correlation(dataset):\n",
    "    cmap = sns.diverging_palette(220, 10, as_cmap=True)\n",
    "    # Generate a mask for the upper triangle\n",
    "    mask = np.zeros_like(dataset, dtype=bool)\n",
    "    mask[np.triu_indices_from(mask)] = True\n",
    "\n",
    "    # Set up the matplotlib figure\n",
    "    f, ax = plt.subplots(figsize=(11, 9))\n",
    "    # Draw the heatmap with the mask and correct aspect ratio\n",
    "    sns.heatmap(dataset, mask=mask, cmap=cmap, vmax=.3, center=0,annot = True, square=True, linewidths=.5, cbar_kws={\"shrink\": .5});\n",
    "\n",
    "plot_correlation(correlation['corr'])"
   ]
  },
  {
   "cell_type": "code",
   "execution_count": null,
   "metadata": {},
   "outputs": [],
   "source": []
  }
 ],
 "metadata": {
  "colab": {
   "private_outputs": true,
   "provenance": []
  },
  "kernelspec": {
   "display_name": "Python 3 (ipykernel)",
   "language": "python",
   "name": "python3"
  },
  "language_info": {
   "codemirror_mode": {
    "name": "ipython",
    "version": 3
   },
   "file_extension": ".py",
   "mimetype": "text/x-python",
   "name": "python",
   "nbconvert_exporter": "python",
   "pygments_lexer": "ipython3",
   "version": "3.12.1"
  }
 },
 "nbformat": 4,
 "nbformat_minor": 1
}
