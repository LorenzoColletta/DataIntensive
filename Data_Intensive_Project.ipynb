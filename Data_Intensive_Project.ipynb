{
  "nbformat": 4,
  "nbformat_minor": 0,
  "metadata": {
    "colab": {
      "provenance": [],
      "private_outputs": true
    },
    "kernelspec": {
      "name": "python3",
      "display_name": "Python 3"
    },
    "language_info": {
      "name": "python"
    }
  },
  "cells": [
    {
      "cell_type": "markdown",
      "source": [
        "Lorenzo Colletta, Giorgio Fantilli, Luca Lucioli"
      ],
      "metadata": {
        "id": "sRlZanLmPzG8"
      }
    },
    {
      "cell_type": "markdown",
      "source": [
        "## Parte 1 - Descrizione del problema\n",
        "\n",
        "Il dataset in esame include dati per la stima dei livelli di obesità negli individui provenienti dai paesi di Messico, Perù e Colombia, in base alle loro abitudini alimentari e alle condizioni fisiche. `TODO`\n",
        "\n",
        "Di seguito vengono importate le librerie necessarie per scaricare i file, organizzare le strutture dati e disegnare i grafici."
      ],
      "metadata": {
        "id": "xbIORchGW1oz"
      }
    },
    {
      "cell_type": "code",
      "source": [
        "import os.path\n",
        "\n",
        "import numpy as np\n",
        "import pandas as pd\n",
        "import matplotlib.pyplot as plt\n",
        "\n",
        "%matplotlib inline"
      ],
      "metadata": {
        "id": "ECDeFnTwQybP"
      },
      "execution_count": null,
      "outputs": []
    },
    {
      "cell_type": "markdown",
      "source": [
        "### Caricamento dati e preprocessing"
      ],
      "metadata": {
        "id": "CGtjGX1HVOyH"
      }
    },
    {
      "cell_type": "code",
      "source": [
        "file_zip_url = \"https://archive.ics.uci.edu/static/public/544/estimation+of+obesity+levels+based+on+eating+habits+and+physical+condition.zip\"\n",
        "file_zip_name = \"obesity_data.zip\"\n",
        "file = \"./ObesityDataSet_raw_and_data_sinthetic.csv\"\n",
        "\n",
        "if not os.path.exists(file_zip_name):\n",
        "    from urllib.request import urlretrieve\n",
        "    urlretrieve(file_zip_url, file_zip_name)\n",
        "    from zipfile import ZipFile\n",
        "    with ZipFile(file_zip_name) as f:\n",
        "        f.extractall()\n",
        "\n",
        "obesity_row_data = pd.read_csv(file)\n",
        "obesity_row_data = obesity_row_data.rename(columns={\"family_history_with_overweight\" : \"FHWO\", \"NObeyesdad\" : \"ObesityLevel\"})\n",
        "\n",
        "obesity_row_data.head(10)"
      ],
      "metadata": {
        "id": "8O5CGPhUQe5b"
      },
      "execution_count": null,
      "outputs": []
    },
    {
      "cell_type": "markdown",
      "source": [
        "Sopra viene mostrato un piccolo estratto del dataset in esame, dopo aver rinominato alcune feature per migliorarne la leggibilità e l'utilizzo.\n",
        "\n",
        "Di seguito sono riportate le dimensioni in memoria, il numero di istanze non nulle e il tipo delle feature che compongono i dati raccolti nel dataset.\n"
      ],
      "metadata": {
        "id": "hCJQeAsEuTAU"
      }
    },
    {
      "cell_type": "code",
      "source": [
        "obesity_row_data.info(memory_usage=\"deep\");"
      ],
      "metadata": {
        "id": "63JGnCPM6FN1"
      },
      "execution_count": null,
      "outputs": []
    },
    {
      "cell_type": "markdown",
      "source": [
        "Osserviamo come molte delle feature sono di tipo `object`. Procediamo di seguito con la trasformazione in variabili categoriche e booleane per limitare la memoria occupata."
      ],
      "metadata": {
        "id": "uJ_wJWmb6RLz"
      }
    },
    {
      "cell_type": "code",
      "source": [
        "categorical = [\"NCP\", \"CAEC\", \"CH2O\", \"FAF\",\n",
        "               \"TUE\", \"CALC\", \"MTRANS\", \"ObesityLevel\"];\n",
        "boolean = [\"FHWO\", \"FAVC\", \"SMOKE\", \"SCC\"]\n",
        "\n",
        "obesity_row_data[categorical] = obesity_row_data[categorical].astype(\"category\")\n",
        "\n",
        "obesity_row_data[boolean] = obesity_row_data[boolean].apply(lambda x: x.map({\"yes\": True, \"no\": False})).astype(bool)\n",
        "\n",
        "obesity_row_data.info(verbose=False, memory_usage=\"deep\");"
      ],
      "metadata": {
        "id": "oE1VqA6ZXDoh"
      },
      "execution_count": null,
      "outputs": []
    },
    {
      "cell_type": "markdown",
      "source": [
        "Osserviamo come tutte le feature sono rileventi per il problema, e soprattutto che nessuna delle stesse presenta valori nulli. Non risulta perciò necessaria nessuna pulizia dei dati."
      ],
      "metadata": {
        "id": "GhEWkZXb0Z_g"
      }
    },
    {
      "cell_type": "markdown",
      "source": [
        "## Descrizione delle feature\n",
        "Il dataset contiene le seguenti feature:\n",
        "*   `Gender`: genere\n",
        "*   `Age`: età\n",
        "*   `Height`: altezza\n",
        "*   `Weight`: peso\n",
        "*   `FHWO`: indica se il soggetto ha familiari che sono o sono stati sovrappeso\n",
        "*   `FAVC`: indica se il soggetto mangia spesso cibo ad alto contenuto calorico o meno\n",
        "*   `FCVC`: indica se solitamente il soggetto mangia verdura durante i pasti o meno\n",
        "*   `NCP`: indica quanti pasti consuma il soggetto durante la giornata (tra 1 e 2, tre, più di tre)\n",
        "*   `CAEC`: indica se il soggetto mangia tra i pasti (no, qualche volta, frequentemente, sempre)\n",
        "*   `SMOKE`: indica se il soggetto fuma o meno\n",
        "*   `CH2O`: indica quanta acqua beve il soggetto durante il giorno (meno di un litro, tra uno e due litri, più di due litri)\n",
        "*   `SCC`: indica se il soggetto monitora le calorie che assume durante il giorno\n",
        "*   `FAF`: indica quanto spesso il soggetto svolge attività fisica durante la settimana (mai, da 1 a 2 volte a settimana, da 2 a 4 volte a settimana, da 4 a 5 volte a settimana)\n",
        "*   `TUE`: indica quanto spesso il soggetto utilizza apparecchi tecnologici durante il giorno come telefono, videogiochi, tv, computer o altri (da 0 a 2 ore, da 3 a 5 ore, più di 5 ore)\n",
        "*   `CALC`: indica quanto spesso il soggetto beve (mai, qualche volta, frequentemente, sempre)\n",
        "*   `MTRANS`: indica quale mezzo di trasporto utilizza solitamente il soggetto (auto, moto, bicicletta, trasporto pubblico, a piedi)\n",
        "\n",
        "La variabile target è `ObesityLevel`, che rappresenta il livello di obesità nelle seguenti classi: Insufficient Weight, Normal Weight, Overweight Level I, Overweight Level II, Obesity Type I, Obesity Type II, and Obesity Type III."
      ],
      "metadata": {
        "id": "-hJ_Ee9NYhJl"
      }
    },
    {
      "cell_type": "code",
      "source": [
        "obesity_row_data[\"ObesityLevel\"].value_counts().plot.pie(autopct='%1.1f%%', startangle=90)"
      ],
      "metadata": {
        "id": "tVS4ZnU8kLDW"
      },
      "execution_count": null,
      "outputs": []
    },
    {
      "cell_type": "markdown",
      "source": [
        "Osserviamo dal grafico a torta che la variabile target `ObesityLevel` risulta essere bilanciata, ovvero il numero di istanze per le possibili classi sono pressochè identiche.  Il problema in esame risulta quindi essere bilanciato e non e' necessario utilizzare tecniche di bilanciamento delle classi."
      ],
      "metadata": {
        "id": "v34ffOYCuaNn"
      }
    },
    {
      "cell_type": "code",
      "source": [
        "obesity_row_data.describe()"
      ],
      "metadata": {
        "id": "P66wNiky5YRm"
      },
      "execution_count": null,
      "outputs": []
    },
    {
      "cell_type": "markdown",
      "source": [
        "dasdasdadsadadsaddadadasdsadas sdsadadasd"
      ],
      "metadata": {
        "id": "GN2Gp8hW7gQK"
      }
    }
  ]
}